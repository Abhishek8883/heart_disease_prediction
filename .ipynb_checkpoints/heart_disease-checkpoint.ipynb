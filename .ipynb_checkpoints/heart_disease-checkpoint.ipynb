{
 "cells": [
  {
   "cell_type": "markdown",
   "id": "unexpected-anime",
   "metadata": {},
   "source": [
    "## Assignment 10\n",
    "### Registraion Id : SIRSS 1152\n",
    "#### Name : Abhishek Pandey\n",
    "#### Task : Creating a machine learning model for heart disease prediction dataset."
   ]
  },
  {
   "cell_type": "code",
   "execution_count": 1,
   "id": "controversial-barrier",
   "metadata": {},
   "outputs": [],
   "source": [
    "import numpy as np\n",
    "import pandas as pd \n",
    "import matplotlib.pyplot as plt\n",
    "import seaborn as sns"
   ]
  },
  {
   "cell_type": "code",
   "execution_count": 2,
   "id": "economic-agency",
   "metadata": {},
   "outputs": [],
   "source": [
    "data = pd.read_csv('heart.csv')"
   ]
  },
  {
   "cell_type": "code",
   "execution_count": 3,
   "id": "champion-andrews",
   "metadata": {},
   "outputs": [
    {
     "data": {
      "text/html": [
       "<div>\n",
       "<style scoped>\n",
       "    .dataframe tbody tr th:only-of-type {\n",
       "        vertical-align: middle;\n",
       "    }\n",
       "\n",
       "    .dataframe tbody tr th {\n",
       "        vertical-align: top;\n",
       "    }\n",
       "\n",
       "    .dataframe thead th {\n",
       "        text-align: right;\n",
       "    }\n",
       "</style>\n",
       "<table border=\"1\" class=\"dataframe\">\n",
       "  <thead>\n",
       "    <tr style=\"text-align: right;\">\n",
       "      <th></th>\n",
       "      <th>age</th>\n",
       "      <th>sex</th>\n",
       "      <th>cp</th>\n",
       "      <th>trtbps</th>\n",
       "      <th>chol</th>\n",
       "      <th>fbs</th>\n",
       "      <th>restecg</th>\n",
       "      <th>thalachh</th>\n",
       "      <th>exng</th>\n",
       "      <th>oldpeak</th>\n",
       "      <th>slp</th>\n",
       "      <th>caa</th>\n",
       "      <th>thall</th>\n",
       "      <th>output</th>\n",
       "    </tr>\n",
       "  </thead>\n",
       "  <tbody>\n",
       "    <tr>\n",
       "      <th>0</th>\n",
       "      <td>63</td>\n",
       "      <td>1</td>\n",
       "      <td>3</td>\n",
       "      <td>145</td>\n",
       "      <td>233</td>\n",
       "      <td>1</td>\n",
       "      <td>0</td>\n",
       "      <td>150</td>\n",
       "      <td>0</td>\n",
       "      <td>2.3</td>\n",
       "      <td>0</td>\n",
       "      <td>0</td>\n",
       "      <td>1</td>\n",
       "      <td>1</td>\n",
       "    </tr>\n",
       "    <tr>\n",
       "      <th>1</th>\n",
       "      <td>37</td>\n",
       "      <td>1</td>\n",
       "      <td>2</td>\n",
       "      <td>130</td>\n",
       "      <td>250</td>\n",
       "      <td>0</td>\n",
       "      <td>1</td>\n",
       "      <td>187</td>\n",
       "      <td>0</td>\n",
       "      <td>3.5</td>\n",
       "      <td>0</td>\n",
       "      <td>0</td>\n",
       "      <td>2</td>\n",
       "      <td>1</td>\n",
       "    </tr>\n",
       "    <tr>\n",
       "      <th>2</th>\n",
       "      <td>41</td>\n",
       "      <td>0</td>\n",
       "      <td>1</td>\n",
       "      <td>130</td>\n",
       "      <td>204</td>\n",
       "      <td>0</td>\n",
       "      <td>0</td>\n",
       "      <td>172</td>\n",
       "      <td>0</td>\n",
       "      <td>1.4</td>\n",
       "      <td>2</td>\n",
       "      <td>0</td>\n",
       "      <td>2</td>\n",
       "      <td>1</td>\n",
       "    </tr>\n",
       "    <tr>\n",
       "      <th>3</th>\n",
       "      <td>56</td>\n",
       "      <td>1</td>\n",
       "      <td>1</td>\n",
       "      <td>120</td>\n",
       "      <td>236</td>\n",
       "      <td>0</td>\n",
       "      <td>1</td>\n",
       "      <td>178</td>\n",
       "      <td>0</td>\n",
       "      <td>0.8</td>\n",
       "      <td>2</td>\n",
       "      <td>0</td>\n",
       "      <td>2</td>\n",
       "      <td>1</td>\n",
       "    </tr>\n",
       "    <tr>\n",
       "      <th>4</th>\n",
       "      <td>57</td>\n",
       "      <td>0</td>\n",
       "      <td>0</td>\n",
       "      <td>120</td>\n",
       "      <td>354</td>\n",
       "      <td>0</td>\n",
       "      <td>1</td>\n",
       "      <td>163</td>\n",
       "      <td>1</td>\n",
       "      <td>0.6</td>\n",
       "      <td>2</td>\n",
       "      <td>0</td>\n",
       "      <td>2</td>\n",
       "      <td>1</td>\n",
       "    </tr>\n",
       "  </tbody>\n",
       "</table>\n",
       "</div>"
      ],
      "text/plain": [
       "   age  sex  cp  trtbps  chol  fbs  restecg  thalachh  exng  oldpeak  slp  \\\n",
       "0   63    1   3     145   233    1        0       150     0      2.3    0   \n",
       "1   37    1   2     130   250    0        1       187     0      3.5    0   \n",
       "2   41    0   1     130   204    0        0       172     0      1.4    2   \n",
       "3   56    1   1     120   236    0        1       178     0      0.8    2   \n",
       "4   57    0   0     120   354    0        1       163     1      0.6    2   \n",
       "\n",
       "   caa  thall  output  \n",
       "0    0      1       1  \n",
       "1    0      2       1  \n",
       "2    0      2       1  \n",
       "3    0      2       1  \n",
       "4    0      2       1  "
      ]
     },
     "execution_count": 3,
     "metadata": {},
     "output_type": "execute_result"
    }
   ],
   "source": [
    "data.head()"
   ]
  },
  {
   "cell_type": "code",
   "execution_count": 4,
   "id": "incorporate-beaver",
   "metadata": {},
   "outputs": [
    {
     "name": "stdout",
     "output_type": "stream",
     "text": [
      "<class 'pandas.core.frame.DataFrame'>\n",
      "RangeIndex: 303 entries, 0 to 302\n",
      "Data columns (total 14 columns):\n",
      " #   Column    Non-Null Count  Dtype  \n",
      "---  ------    --------------  -----  \n",
      " 0   age       303 non-null    int64  \n",
      " 1   sex       303 non-null    int64  \n",
      " 2   cp        303 non-null    int64  \n",
      " 3   trtbps    303 non-null    int64  \n",
      " 4   chol      303 non-null    int64  \n",
      " 5   fbs       303 non-null    int64  \n",
      " 6   restecg   303 non-null    int64  \n",
      " 7   thalachh  303 non-null    int64  \n",
      " 8   exng      303 non-null    int64  \n",
      " 9   oldpeak   303 non-null    float64\n",
      " 10  slp       303 non-null    int64  \n",
      " 11  caa       303 non-null    int64  \n",
      " 12  thall     303 non-null    int64  \n",
      " 13  output    303 non-null    int64  \n",
      "dtypes: float64(1), int64(13)\n",
      "memory usage: 33.3 KB\n"
     ]
    }
   ],
   "source": [
    "data.info()"
   ]
  },
  {
   "cell_type": "code",
   "execution_count": 5,
   "id": "bibliographic-blend",
   "metadata": {},
   "outputs": [
    {
     "data": {
      "text/plain": [
       "age         0\n",
       "sex         0\n",
       "cp          0\n",
       "trtbps      0\n",
       "chol        0\n",
       "fbs         0\n",
       "restecg     0\n",
       "thalachh    0\n",
       "exng        0\n",
       "oldpeak     0\n",
       "slp         0\n",
       "caa         0\n",
       "thall       0\n",
       "output      0\n",
       "dtype: int64"
      ]
     },
     "execution_count": 5,
     "metadata": {},
     "output_type": "execute_result"
    }
   ],
   "source": [
    "# Finding the missing values\n",
    "data.isnull().sum()"
   ]
  },
  {
   "cell_type": "code",
   "execution_count": 6,
   "id": "variable-attention",
   "metadata": {},
   "outputs": [
    {
     "data": {
      "text/html": [
       "<div>\n",
       "<style scoped>\n",
       "    .dataframe tbody tr th:only-of-type {\n",
       "        vertical-align: middle;\n",
       "    }\n",
       "\n",
       "    .dataframe tbody tr th {\n",
       "        vertical-align: top;\n",
       "    }\n",
       "\n",
       "    .dataframe thead th {\n",
       "        text-align: right;\n",
       "    }\n",
       "</style>\n",
       "<table border=\"1\" class=\"dataframe\">\n",
       "  <thead>\n",
       "    <tr style=\"text-align: right;\">\n",
       "      <th></th>\n",
       "      <th>age</th>\n",
       "      <th>sex</th>\n",
       "      <th>cp</th>\n",
       "      <th>trtbps</th>\n",
       "      <th>chol</th>\n",
       "      <th>fbs</th>\n",
       "      <th>restecg</th>\n",
       "      <th>thalachh</th>\n",
       "      <th>exng</th>\n",
       "      <th>oldpeak</th>\n",
       "      <th>slp</th>\n",
       "      <th>caa</th>\n",
       "      <th>thall</th>\n",
       "      <th>output</th>\n",
       "    </tr>\n",
       "  </thead>\n",
       "  <tbody>\n",
       "    <tr>\n",
       "      <th>count</th>\n",
       "      <td>303.000000</td>\n",
       "      <td>303.000000</td>\n",
       "      <td>303.000000</td>\n",
       "      <td>303.000000</td>\n",
       "      <td>303.000000</td>\n",
       "      <td>303.000000</td>\n",
       "      <td>303.000000</td>\n",
       "      <td>303.000000</td>\n",
       "      <td>303.000000</td>\n",
       "      <td>303.000000</td>\n",
       "      <td>303.000000</td>\n",
       "      <td>303.000000</td>\n",
       "      <td>303.000000</td>\n",
       "      <td>303.000000</td>\n",
       "    </tr>\n",
       "    <tr>\n",
       "      <th>mean</th>\n",
       "      <td>54.366337</td>\n",
       "      <td>0.683168</td>\n",
       "      <td>0.966997</td>\n",
       "      <td>131.623762</td>\n",
       "      <td>246.264026</td>\n",
       "      <td>0.148515</td>\n",
       "      <td>0.528053</td>\n",
       "      <td>149.646865</td>\n",
       "      <td>0.326733</td>\n",
       "      <td>1.039604</td>\n",
       "      <td>1.399340</td>\n",
       "      <td>0.729373</td>\n",
       "      <td>2.313531</td>\n",
       "      <td>0.544554</td>\n",
       "    </tr>\n",
       "    <tr>\n",
       "      <th>std</th>\n",
       "      <td>9.082101</td>\n",
       "      <td>0.466011</td>\n",
       "      <td>1.032052</td>\n",
       "      <td>17.538143</td>\n",
       "      <td>51.830751</td>\n",
       "      <td>0.356198</td>\n",
       "      <td>0.525860</td>\n",
       "      <td>22.905161</td>\n",
       "      <td>0.469794</td>\n",
       "      <td>1.161075</td>\n",
       "      <td>0.616226</td>\n",
       "      <td>1.022606</td>\n",
       "      <td>0.612277</td>\n",
       "      <td>0.498835</td>\n",
       "    </tr>\n",
       "    <tr>\n",
       "      <th>min</th>\n",
       "      <td>29.000000</td>\n",
       "      <td>0.000000</td>\n",
       "      <td>0.000000</td>\n",
       "      <td>94.000000</td>\n",
       "      <td>126.000000</td>\n",
       "      <td>0.000000</td>\n",
       "      <td>0.000000</td>\n",
       "      <td>71.000000</td>\n",
       "      <td>0.000000</td>\n",
       "      <td>0.000000</td>\n",
       "      <td>0.000000</td>\n",
       "      <td>0.000000</td>\n",
       "      <td>0.000000</td>\n",
       "      <td>0.000000</td>\n",
       "    </tr>\n",
       "    <tr>\n",
       "      <th>25%</th>\n",
       "      <td>47.500000</td>\n",
       "      <td>0.000000</td>\n",
       "      <td>0.000000</td>\n",
       "      <td>120.000000</td>\n",
       "      <td>211.000000</td>\n",
       "      <td>0.000000</td>\n",
       "      <td>0.000000</td>\n",
       "      <td>133.500000</td>\n",
       "      <td>0.000000</td>\n",
       "      <td>0.000000</td>\n",
       "      <td>1.000000</td>\n",
       "      <td>0.000000</td>\n",
       "      <td>2.000000</td>\n",
       "      <td>0.000000</td>\n",
       "    </tr>\n",
       "    <tr>\n",
       "      <th>50%</th>\n",
       "      <td>55.000000</td>\n",
       "      <td>1.000000</td>\n",
       "      <td>1.000000</td>\n",
       "      <td>130.000000</td>\n",
       "      <td>240.000000</td>\n",
       "      <td>0.000000</td>\n",
       "      <td>1.000000</td>\n",
       "      <td>153.000000</td>\n",
       "      <td>0.000000</td>\n",
       "      <td>0.800000</td>\n",
       "      <td>1.000000</td>\n",
       "      <td>0.000000</td>\n",
       "      <td>2.000000</td>\n",
       "      <td>1.000000</td>\n",
       "    </tr>\n",
       "    <tr>\n",
       "      <th>75%</th>\n",
       "      <td>61.000000</td>\n",
       "      <td>1.000000</td>\n",
       "      <td>2.000000</td>\n",
       "      <td>140.000000</td>\n",
       "      <td>274.500000</td>\n",
       "      <td>0.000000</td>\n",
       "      <td>1.000000</td>\n",
       "      <td>166.000000</td>\n",
       "      <td>1.000000</td>\n",
       "      <td>1.600000</td>\n",
       "      <td>2.000000</td>\n",
       "      <td>1.000000</td>\n",
       "      <td>3.000000</td>\n",
       "      <td>1.000000</td>\n",
       "    </tr>\n",
       "    <tr>\n",
       "      <th>max</th>\n",
       "      <td>77.000000</td>\n",
       "      <td>1.000000</td>\n",
       "      <td>3.000000</td>\n",
       "      <td>200.000000</td>\n",
       "      <td>564.000000</td>\n",
       "      <td>1.000000</td>\n",
       "      <td>2.000000</td>\n",
       "      <td>202.000000</td>\n",
       "      <td>1.000000</td>\n",
       "      <td>6.200000</td>\n",
       "      <td>2.000000</td>\n",
       "      <td>4.000000</td>\n",
       "      <td>3.000000</td>\n",
       "      <td>1.000000</td>\n",
       "    </tr>\n",
       "  </tbody>\n",
       "</table>\n",
       "</div>"
      ],
      "text/plain": [
       "              age         sex          cp      trtbps        chol         fbs  \\\n",
       "count  303.000000  303.000000  303.000000  303.000000  303.000000  303.000000   \n",
       "mean    54.366337    0.683168    0.966997  131.623762  246.264026    0.148515   \n",
       "std      9.082101    0.466011    1.032052   17.538143   51.830751    0.356198   \n",
       "min     29.000000    0.000000    0.000000   94.000000  126.000000    0.000000   \n",
       "25%     47.500000    0.000000    0.000000  120.000000  211.000000    0.000000   \n",
       "50%     55.000000    1.000000    1.000000  130.000000  240.000000    0.000000   \n",
       "75%     61.000000    1.000000    2.000000  140.000000  274.500000    0.000000   \n",
       "max     77.000000    1.000000    3.000000  200.000000  564.000000    1.000000   \n",
       "\n",
       "          restecg    thalachh        exng     oldpeak         slp         caa  \\\n",
       "count  303.000000  303.000000  303.000000  303.000000  303.000000  303.000000   \n",
       "mean     0.528053  149.646865    0.326733    1.039604    1.399340    0.729373   \n",
       "std      0.525860   22.905161    0.469794    1.161075    0.616226    1.022606   \n",
       "min      0.000000   71.000000    0.000000    0.000000    0.000000    0.000000   \n",
       "25%      0.000000  133.500000    0.000000    0.000000    1.000000    0.000000   \n",
       "50%      1.000000  153.000000    0.000000    0.800000    1.000000    0.000000   \n",
       "75%      1.000000  166.000000    1.000000    1.600000    2.000000    1.000000   \n",
       "max      2.000000  202.000000    1.000000    6.200000    2.000000    4.000000   \n",
       "\n",
       "            thall      output  \n",
       "count  303.000000  303.000000  \n",
       "mean     2.313531    0.544554  \n",
       "std      0.612277    0.498835  \n",
       "min      0.000000    0.000000  \n",
       "25%      2.000000    0.000000  \n",
       "50%      2.000000    1.000000  \n",
       "75%      3.000000    1.000000  \n",
       "max      3.000000    1.000000  "
      ]
     },
     "execution_count": 6,
     "metadata": {},
     "output_type": "execute_result"
    }
   ],
   "source": [
    "data.describe()"
   ]
  },
  {
   "cell_type": "code",
   "execution_count": 7,
   "id": "urban-intro",
   "metadata": {},
   "outputs": [
    {
     "data": {
      "text/plain": [
       "1"
      ]
     },
     "execution_count": 7,
     "metadata": {},
     "output_type": "execute_result"
    }
   ],
   "source": [
    "#Finding the duplicate Values\n",
    "data.duplicated().sum()##"
   ]
  },
  {
   "cell_type": "code",
   "execution_count": 8,
   "id": "julian-steal",
   "metadata": {},
   "outputs": [
    {
     "data": {
      "text/plain": [
       "0"
      ]
     },
     "execution_count": 8,
     "metadata": {},
     "output_type": "execute_result"
    }
   ],
   "source": [
    "#Removing the duplicate values\n",
    "data.drop_duplicates(inplace = True)\n",
    "data.duplicated().sum()"
   ]
  },
  {
   "cell_type": "code",
   "execution_count": 9,
   "id": "italian-reception",
   "metadata": {},
   "outputs": [
    {
     "data": {
      "text/html": [
       "<div>\n",
       "<style scoped>\n",
       "    .dataframe tbody tr th:only-of-type {\n",
       "        vertical-align: middle;\n",
       "    }\n",
       "\n",
       "    .dataframe tbody tr th {\n",
       "        vertical-align: top;\n",
       "    }\n",
       "\n",
       "    .dataframe thead th {\n",
       "        text-align: right;\n",
       "    }\n",
       "</style>\n",
       "<table border=\"1\" class=\"dataframe\">\n",
       "  <thead>\n",
       "    <tr style=\"text-align: right;\">\n",
       "      <th></th>\n",
       "      <th>age</th>\n",
       "      <th>sex</th>\n",
       "      <th>cp</th>\n",
       "      <th>trtbps</th>\n",
       "      <th>chol</th>\n",
       "      <th>fbs</th>\n",
       "      <th>restecg</th>\n",
       "      <th>thalachh</th>\n",
       "      <th>exng</th>\n",
       "      <th>oldpeak</th>\n",
       "      <th>slp</th>\n",
       "      <th>caa</th>\n",
       "      <th>thall</th>\n",
       "      <th>output</th>\n",
       "    </tr>\n",
       "  </thead>\n",
       "  <tbody>\n",
       "    <tr>\n",
       "      <th>age</th>\n",
       "      <td>1.000000</td>\n",
       "      <td>-0.094962</td>\n",
       "      <td>-0.063107</td>\n",
       "      <td>0.283121</td>\n",
       "      <td>0.207216</td>\n",
       "      <td>0.119492</td>\n",
       "      <td>-0.111590</td>\n",
       "      <td>-0.395235</td>\n",
       "      <td>0.093216</td>\n",
       "      <td>0.206040</td>\n",
       "      <td>-0.164124</td>\n",
       "      <td>0.302261</td>\n",
       "      <td>0.065317</td>\n",
       "      <td>-0.221476</td>\n",
       "    </tr>\n",
       "    <tr>\n",
       "      <th>sex</th>\n",
       "      <td>-0.094962</td>\n",
       "      <td>1.000000</td>\n",
       "      <td>-0.051740</td>\n",
       "      <td>-0.057647</td>\n",
       "      <td>-0.195571</td>\n",
       "      <td>0.046022</td>\n",
       "      <td>-0.060351</td>\n",
       "      <td>-0.046439</td>\n",
       "      <td>0.143460</td>\n",
       "      <td>0.098322</td>\n",
       "      <td>-0.032990</td>\n",
       "      <td>0.113060</td>\n",
       "      <td>0.211452</td>\n",
       "      <td>-0.283609</td>\n",
       "    </tr>\n",
       "    <tr>\n",
       "      <th>cp</th>\n",
       "      <td>-0.063107</td>\n",
       "      <td>-0.051740</td>\n",
       "      <td>1.000000</td>\n",
       "      <td>0.046486</td>\n",
       "      <td>-0.072682</td>\n",
       "      <td>0.096018</td>\n",
       "      <td>0.041561</td>\n",
       "      <td>0.293367</td>\n",
       "      <td>-0.392937</td>\n",
       "      <td>-0.146692</td>\n",
       "      <td>0.116854</td>\n",
       "      <td>-0.195356</td>\n",
       "      <td>-0.160370</td>\n",
       "      <td>0.432080</td>\n",
       "    </tr>\n",
       "    <tr>\n",
       "      <th>trtbps</th>\n",
       "      <td>0.283121</td>\n",
       "      <td>-0.057647</td>\n",
       "      <td>0.046486</td>\n",
       "      <td>1.000000</td>\n",
       "      <td>0.125256</td>\n",
       "      <td>0.178125</td>\n",
       "      <td>-0.115367</td>\n",
       "      <td>-0.048023</td>\n",
       "      <td>0.068526</td>\n",
       "      <td>0.194600</td>\n",
       "      <td>-0.122873</td>\n",
       "      <td>0.099248</td>\n",
       "      <td>0.062870</td>\n",
       "      <td>-0.146269</td>\n",
       "    </tr>\n",
       "    <tr>\n",
       "      <th>chol</th>\n",
       "      <td>0.207216</td>\n",
       "      <td>-0.195571</td>\n",
       "      <td>-0.072682</td>\n",
       "      <td>0.125256</td>\n",
       "      <td>1.000000</td>\n",
       "      <td>0.011428</td>\n",
       "      <td>-0.147602</td>\n",
       "      <td>-0.005308</td>\n",
       "      <td>0.064099</td>\n",
       "      <td>0.050086</td>\n",
       "      <td>0.000417</td>\n",
       "      <td>0.086878</td>\n",
       "      <td>0.096810</td>\n",
       "      <td>-0.081437</td>\n",
       "    </tr>\n",
       "    <tr>\n",
       "      <th>fbs</th>\n",
       "      <td>0.119492</td>\n",
       "      <td>0.046022</td>\n",
       "      <td>0.096018</td>\n",
       "      <td>0.178125</td>\n",
       "      <td>0.011428</td>\n",
       "      <td>1.000000</td>\n",
       "      <td>-0.083081</td>\n",
       "      <td>-0.007169</td>\n",
       "      <td>0.024729</td>\n",
       "      <td>0.004514</td>\n",
       "      <td>-0.058654</td>\n",
       "      <td>0.144935</td>\n",
       "      <td>-0.032752</td>\n",
       "      <td>-0.026826</td>\n",
       "    </tr>\n",
       "    <tr>\n",
       "      <th>restecg</th>\n",
       "      <td>-0.111590</td>\n",
       "      <td>-0.060351</td>\n",
       "      <td>0.041561</td>\n",
       "      <td>-0.115367</td>\n",
       "      <td>-0.147602</td>\n",
       "      <td>-0.083081</td>\n",
       "      <td>1.000000</td>\n",
       "      <td>0.041210</td>\n",
       "      <td>-0.068807</td>\n",
       "      <td>-0.056251</td>\n",
       "      <td>0.090402</td>\n",
       "      <td>-0.083112</td>\n",
       "      <td>-0.010473</td>\n",
       "      <td>0.134874</td>\n",
       "    </tr>\n",
       "    <tr>\n",
       "      <th>thalachh</th>\n",
       "      <td>-0.395235</td>\n",
       "      <td>-0.046439</td>\n",
       "      <td>0.293367</td>\n",
       "      <td>-0.048023</td>\n",
       "      <td>-0.005308</td>\n",
       "      <td>-0.007169</td>\n",
       "      <td>0.041210</td>\n",
       "      <td>1.000000</td>\n",
       "      <td>-0.377411</td>\n",
       "      <td>-0.342201</td>\n",
       "      <td>0.384754</td>\n",
       "      <td>-0.228311</td>\n",
       "      <td>-0.094910</td>\n",
       "      <td>0.419955</td>\n",
       "    </tr>\n",
       "    <tr>\n",
       "      <th>exng</th>\n",
       "      <td>0.093216</td>\n",
       "      <td>0.143460</td>\n",
       "      <td>-0.392937</td>\n",
       "      <td>0.068526</td>\n",
       "      <td>0.064099</td>\n",
       "      <td>0.024729</td>\n",
       "      <td>-0.068807</td>\n",
       "      <td>-0.377411</td>\n",
       "      <td>1.000000</td>\n",
       "      <td>0.286766</td>\n",
       "      <td>-0.256106</td>\n",
       "      <td>0.125377</td>\n",
       "      <td>0.205826</td>\n",
       "      <td>-0.435601</td>\n",
       "    </tr>\n",
       "    <tr>\n",
       "      <th>oldpeak</th>\n",
       "      <td>0.206040</td>\n",
       "      <td>0.098322</td>\n",
       "      <td>-0.146692</td>\n",
       "      <td>0.194600</td>\n",
       "      <td>0.050086</td>\n",
       "      <td>0.004514</td>\n",
       "      <td>-0.056251</td>\n",
       "      <td>-0.342201</td>\n",
       "      <td>0.286766</td>\n",
       "      <td>1.000000</td>\n",
       "      <td>-0.576314</td>\n",
       "      <td>0.236560</td>\n",
       "      <td>0.209090</td>\n",
       "      <td>-0.429146</td>\n",
       "    </tr>\n",
       "    <tr>\n",
       "      <th>slp</th>\n",
       "      <td>-0.164124</td>\n",
       "      <td>-0.032990</td>\n",
       "      <td>0.116854</td>\n",
       "      <td>-0.122873</td>\n",
       "      <td>0.000417</td>\n",
       "      <td>-0.058654</td>\n",
       "      <td>0.090402</td>\n",
       "      <td>0.384754</td>\n",
       "      <td>-0.256106</td>\n",
       "      <td>-0.576314</td>\n",
       "      <td>1.000000</td>\n",
       "      <td>-0.092236</td>\n",
       "      <td>-0.103314</td>\n",
       "      <td>0.343940</td>\n",
       "    </tr>\n",
       "    <tr>\n",
       "      <th>caa</th>\n",
       "      <td>0.302261</td>\n",
       "      <td>0.113060</td>\n",
       "      <td>-0.195356</td>\n",
       "      <td>0.099248</td>\n",
       "      <td>0.086878</td>\n",
       "      <td>0.144935</td>\n",
       "      <td>-0.083112</td>\n",
       "      <td>-0.228311</td>\n",
       "      <td>0.125377</td>\n",
       "      <td>0.236560</td>\n",
       "      <td>-0.092236</td>\n",
       "      <td>1.000000</td>\n",
       "      <td>0.160085</td>\n",
       "      <td>-0.408992</td>\n",
       "    </tr>\n",
       "    <tr>\n",
       "      <th>thall</th>\n",
       "      <td>0.065317</td>\n",
       "      <td>0.211452</td>\n",
       "      <td>-0.160370</td>\n",
       "      <td>0.062870</td>\n",
       "      <td>0.096810</td>\n",
       "      <td>-0.032752</td>\n",
       "      <td>-0.010473</td>\n",
       "      <td>-0.094910</td>\n",
       "      <td>0.205826</td>\n",
       "      <td>0.209090</td>\n",
       "      <td>-0.103314</td>\n",
       "      <td>0.160085</td>\n",
       "      <td>1.000000</td>\n",
       "      <td>-0.343101</td>\n",
       "    </tr>\n",
       "    <tr>\n",
       "      <th>output</th>\n",
       "      <td>-0.221476</td>\n",
       "      <td>-0.283609</td>\n",
       "      <td>0.432080</td>\n",
       "      <td>-0.146269</td>\n",
       "      <td>-0.081437</td>\n",
       "      <td>-0.026826</td>\n",
       "      <td>0.134874</td>\n",
       "      <td>0.419955</td>\n",
       "      <td>-0.435601</td>\n",
       "      <td>-0.429146</td>\n",
       "      <td>0.343940</td>\n",
       "      <td>-0.408992</td>\n",
       "      <td>-0.343101</td>\n",
       "      <td>1.000000</td>\n",
       "    </tr>\n",
       "  </tbody>\n",
       "</table>\n",
       "</div>"
      ],
      "text/plain": [
       "               age       sex        cp    trtbps      chol       fbs  \\\n",
       "age       1.000000 -0.094962 -0.063107  0.283121  0.207216  0.119492   \n",
       "sex      -0.094962  1.000000 -0.051740 -0.057647 -0.195571  0.046022   \n",
       "cp       -0.063107 -0.051740  1.000000  0.046486 -0.072682  0.096018   \n",
       "trtbps    0.283121 -0.057647  0.046486  1.000000  0.125256  0.178125   \n",
       "chol      0.207216 -0.195571 -0.072682  0.125256  1.000000  0.011428   \n",
       "fbs       0.119492  0.046022  0.096018  0.178125  0.011428  1.000000   \n",
       "restecg  -0.111590 -0.060351  0.041561 -0.115367 -0.147602 -0.083081   \n",
       "thalachh -0.395235 -0.046439  0.293367 -0.048023 -0.005308 -0.007169   \n",
       "exng      0.093216  0.143460 -0.392937  0.068526  0.064099  0.024729   \n",
       "oldpeak   0.206040  0.098322 -0.146692  0.194600  0.050086  0.004514   \n",
       "slp      -0.164124 -0.032990  0.116854 -0.122873  0.000417 -0.058654   \n",
       "caa       0.302261  0.113060 -0.195356  0.099248  0.086878  0.144935   \n",
       "thall     0.065317  0.211452 -0.160370  0.062870  0.096810 -0.032752   \n",
       "output   -0.221476 -0.283609  0.432080 -0.146269 -0.081437 -0.026826   \n",
       "\n",
       "           restecg  thalachh      exng   oldpeak       slp       caa  \\\n",
       "age      -0.111590 -0.395235  0.093216  0.206040 -0.164124  0.302261   \n",
       "sex      -0.060351 -0.046439  0.143460  0.098322 -0.032990  0.113060   \n",
       "cp        0.041561  0.293367 -0.392937 -0.146692  0.116854 -0.195356   \n",
       "trtbps   -0.115367 -0.048023  0.068526  0.194600 -0.122873  0.099248   \n",
       "chol     -0.147602 -0.005308  0.064099  0.050086  0.000417  0.086878   \n",
       "fbs      -0.083081 -0.007169  0.024729  0.004514 -0.058654  0.144935   \n",
       "restecg   1.000000  0.041210 -0.068807 -0.056251  0.090402 -0.083112   \n",
       "thalachh  0.041210  1.000000 -0.377411 -0.342201  0.384754 -0.228311   \n",
       "exng     -0.068807 -0.377411  1.000000  0.286766 -0.256106  0.125377   \n",
       "oldpeak  -0.056251 -0.342201  0.286766  1.000000 -0.576314  0.236560   \n",
       "slp       0.090402  0.384754 -0.256106 -0.576314  1.000000 -0.092236   \n",
       "caa      -0.083112 -0.228311  0.125377  0.236560 -0.092236  1.000000   \n",
       "thall    -0.010473 -0.094910  0.205826  0.209090 -0.103314  0.160085   \n",
       "output    0.134874  0.419955 -0.435601 -0.429146  0.343940 -0.408992   \n",
       "\n",
       "             thall    output  \n",
       "age       0.065317 -0.221476  \n",
       "sex       0.211452 -0.283609  \n",
       "cp       -0.160370  0.432080  \n",
       "trtbps    0.062870 -0.146269  \n",
       "chol      0.096810 -0.081437  \n",
       "fbs      -0.032752 -0.026826  \n",
       "restecg  -0.010473  0.134874  \n",
       "thalachh -0.094910  0.419955  \n",
       "exng      0.205826 -0.435601  \n",
       "oldpeak   0.209090 -0.429146  \n",
       "slp      -0.103314  0.343940  \n",
       "caa       0.160085 -0.408992  \n",
       "thall     1.000000 -0.343101  \n",
       "output   -0.343101  1.000000  "
      ]
     },
     "execution_count": 9,
     "metadata": {},
     "output_type": "execute_result"
    }
   ],
   "source": [
    "df =  pd.DataFrame (data, columns = ['age', 'sex', 'cp', 'trtbps', 'chol', 'fbs', 'restecg', 'thalachh', 'exng', 'oldpeak', 'slp', 'caa', 'thall', 'output'])\n",
    "df.corr ()"
   ]
  },
  {
   "cell_type": "code",
   "execution_count": 10,
   "id": "compound-registration",
   "metadata": {},
   "outputs": [
    {
     "data": {
      "image/png": "[encoded data removed]",
      "text/plain": [
       "<Figure size 1080x720 with 2 Axes>"
      ]
     },
     "metadata": {
      "needs_background": "light"
     },
     "output_type": "display_data"
    }
   ],
   "source": [
    "#Plotting heatmap to see correlation between features\n",
    "corr_matrix = df.corr()\n",
    "f,ax = plt.subplots(figsize=(15,10))\n",
    "sns.heatmap (corr_matrix, linewidths = 0.5, annot = True,fmt = '.1f',ax=ax , cmap='Greens')\n",
    "plt.show ()"
   ]
  },
  {
   "cell_type": "markdown",
   "id": "medieval-processing",
   "metadata": {},
   "source": [
    "### Visulisation"
   ]
  },
  {
   "cell_type": "code",
   "execution_count": 11,
   "id": "atomic-astrology",
   "metadata": {},
   "outputs": [
    {
     "data": {
      "image/png": "[encoded data removed]",
      "text/plain": [
       "<Figure size 432x288 with 1 Axes>"
      ]
     },
     "metadata": {
      "needs_background": "light"
     },
     "output_type": "display_data"
    }
   ],
   "source": [
    "sns.barplot(x='sex',y='output',data=data)\n",
    "plt.show()"
   ]
  },
  {
   "cell_type": "code",
   "execution_count": 12,
   "id": "occasional-agent",
   "metadata": {
    "scrolled": true
   },
   "outputs": [
    {
     "data": {
      "image/png": "[encoded data removed]",
      "text/plain": [
       "<Figure size 432x288 with 1 Axes>"
      ]
     },
     "metadata": {
      "needs_background": "light"
     },
     "output_type": "display_data"
    }
   ],
   "source": [
    "sns.barplot(x = 'cp',y='output',data=data)\n",
    "plt.show()"
   ]
  },
  {
   "cell_type": "code",
   "execution_count": 13,
   "id": "selective-project",
   "metadata": {},
   "outputs": [
    {
     "data": {
      "image/png": "[encoded data removed]",
      "text/plain": [
       "<Figure size 432x288 with 1 Axes>"
      ]
     },
     "metadata": {
      "needs_background": "light"
     },
     "output_type": "display_data"
    }
   ],
   "source": [
    "sns.barplot(x=\"fbs\",y=\"output\",data=data)\n",
    "plt.show()"
   ]
  },
  {
   "cell_type": "code",
   "execution_count": 14,
   "id": "precious-constitutional",
   "metadata": {},
   "outputs": [
    {
     "data": {
      "image/png": "[encoded data removed]",
      "text/plain": [
       "<Figure size 432x288 with 1 Axes>"
      ]
     },
     "metadata": {
      "needs_background": "light"
     },
     "output_type": "display_data"
    }
   ],
   "source": [
    "sns.barplot(x=\"restecg\",y=\"output\",data=data)\n",
    "plt.show()"
   ]
  },
  {
   "cell_type": "code",
   "execution_count": 15,
   "id": "portable-arrow",
   "metadata": {},
   "outputs": [
    {
     "data": {
      "image/png": "[encoded data removed]",
      "text/plain": [
       "<Figure size 432x288 with 1 Axes>"
      ]
     },
     "metadata": {
      "needs_background": "light"
     },
     "output_type": "display_data"
    }
   ],
   "source": [
    "sns.barplot(x=\"exng\",y=\"output\",data=data)\n",
    "plt.show()"
   ]
  },
  {
   "cell_type": "code",
   "execution_count": 16,
   "id": "alike-volunteer",
   "metadata": {},
   "outputs": [
    {
     "data": {
      "image/png": "[encoded data removed]",
      "text/plain": [
       "<Figure size 432x288 with 1 Axes>"
      ]
     },
     "metadata": {
      "needs_background": "light"
     },
     "output_type": "display_data"
    }
   ],
   "source": [
    "sns.barplot(x=\"slp\",y=\"output\",data=data)\n",
    "plt.show()"
   ]
  },
  {
   "cell_type": "code",
   "execution_count": 17,
   "id": "speaking-champagne",
   "metadata": {},
   "outputs": [
    {
     "data": {
      "image/png": "[encoded data removed]",
      "text/plain": [
       "<Figure size 432x288 with 1 Axes>"
      ]
     },
     "metadata": {
      "needs_background": "light"
     },
     "output_type": "display_data"
    }
   ],
   "source": [
    "sns.barplot(x=\"thall\",y=\"output\",data=data)\n",
    "plt.show()"
   ]
  },
  {
   "cell_type": "markdown",
   "id": "supreme-nursing",
   "metadata": {},
   "source": [
    "### Using Logistic Regression "
   ]
  },
  {
   "cell_type": "code",
   "execution_count": 18,
   "id": "immediate-chinese",
   "metadata": {},
   "outputs": [],
   "source": [
    "X_train = data.drop(['output'],axis = 1).values\n",
    "Y_train = data['output'].values"
   ]
  },
  {
   "cell_type": "code",
   "execution_count": 19,
   "id": "severe-archives",
   "metadata": {},
   "outputs": [],
   "source": [
    "from sklearn.model_selection import train_test_split\n",
    "x_train,x_test,y_train,y_test = train_test_split(X_train,Y_train,test_size = 0.25,random_state = 50)"
   ]
  },
  {
   "cell_type": "code",
   "execution_count": 20,
   "id": "essential-style",
   "metadata": {},
   "outputs": [
    {
     "name": "stderr",
     "output_type": "stream",
     "text": [
      "c:\\users\\abhis\\appdata\\local\\programs\\python\\python39\\lib\\site-packages\\sklearn\\linear_model\\_logistic.py:763: ConvergenceWarning: lbfgs failed to converge (status=1):\n",
      "STOP: TOTAL NO. of ITERATIONS REACHED LIMIT.\n",
      "\n",
      "Increase the number of iterations (max_iter) or scale the data as shown in:\n",
      "    https://scikit-learn.org/stable/modules/preprocessing.html\n",
      "Please also refer to the documentation for alternative solver options:\n",
      "    https://scikit-learn.org/stable/modules/linear_model.html#logistic-regression\n",
      "  n_iter_i = _check_optimize_result(\n"
     ]
    },
    {
     "data": {
      "text/plain": [
       "LogisticRegression()"
      ]
     },
     "execution_count": 20,
     "metadata": {},
     "output_type": "execute_result"
    }
   ],
   "source": [
    "from sklearn.linear_model import LogisticRegression\n",
    "model = LogisticRegression()\n",
    "model.fit(x_train, y_train)"
   ]
  },
  {
   "cell_type": "code",
   "execution_count": 21,
   "id": "uniform-worthy",
   "metadata": {},
   "outputs": [],
   "source": [
    "y_pred = model.predict(x_test)"
   ]
  },
  {
   "cell_type": "code",
   "execution_count": 22,
   "id": "brilliant-spokesman",
   "metadata": {},
   "outputs": [
    {
     "data": {
      "text/plain": [
       "0.8289473684210527"
      ]
     },
     "execution_count": 22,
     "metadata": {},
     "output_type": "execute_result"
    }
   ],
   "source": [
    "from sklearn.metrics import accuracy_score\n",
    "accuracy = accuracy_score(y_test, y_pred)\n",
    "accuracy"
   ]
  },
  {
   "cell_type": "markdown",
   "id": "bored-locator",
   "metadata": {},
   "source": [
    "### Using linear Regression"
   ]
  },
  {
   "cell_type": "code",
   "execution_count": 23,
   "id": "expired-providence",
   "metadata": {},
   "outputs": [],
   "source": [
    "#linear regression\n",
    "from sklearn.linear_model import LinearRegression\n",
    "model = LinearRegression()"
   ]
  },
  {
   "cell_type": "code",
   "execution_count": 24,
   "id": "upper-local",
   "metadata": {},
   "outputs": [],
   "source": [
    "training_data = data[['age','sex','cp','fbs','restecg','exng','slp','caa','thall']]"
   ]
  },
  {
   "cell_type": "code",
   "execution_count": 25,
   "id": "convenient-cooler",
   "metadata": {},
   "outputs": [],
   "source": [
    "testing_data = data['output']"
   ]
  },
  {
   "cell_type": "code",
   "execution_count": 26,
   "id": "excessive-robin",
   "metadata": {},
   "outputs": [
    {
     "data": {
      "text/plain": [
       "LinearRegression()"
      ]
     },
     "execution_count": 26,
     "metadata": {},
     "output_type": "execute_result"
    }
   ],
   "source": [
    "model.fit(x_train,y_train)"
   ]
  },
  {
   "cell_type": "code",
   "execution_count": 27,
   "id": "ranking-player",
   "metadata": {},
   "outputs": [
    {
     "data": {
      "text/plain": [
       "array([ 0.83436552,  0.75096052,  0.47927886,  0.86624355,  0.60179101,\n",
       "       -0.10992825, -0.15228186,  0.61499068,  0.3011399 ,  0.65121178,\n",
       "        0.61121257,  0.65625022,  0.66207191,  0.56763113,  0.70167547,\n",
       "        0.66763169,  0.51529035,  0.61536356, -0.02892637,  0.7135096 ,\n",
       "        0.58686581, -0.13157669,  1.07658246,  0.68928199,  0.9461595 ,\n",
       "        0.86436871,  1.08007698, -0.22272995,  0.68383515,  0.93009907,\n",
       "        0.18815557,  0.13666373,  0.99250356,  0.53407447,  0.52428544,\n",
       "        0.64317198,  0.48319282,  0.24975452,  1.01870156,  1.19390065,\n",
       "        0.88413499,  0.70683677,  0.56173962,  0.2729142 ,  0.70261096,\n",
       "        0.60110081,  0.60147466,  0.66672776,  0.43817786,  0.12996476,\n",
       "        0.30340682,  0.89756484,  0.19625244,  0.85760985,  0.57768731,\n",
       "        0.58414112,  0.59539623,  0.99087866,  0.86851895,  1.2629588 ,\n",
       "        0.7351758 ,  0.26723482,  0.59902793,  0.93648083,  0.17860999,\n",
       "       -0.04540279,  0.58629848,  0.99385048,  0.55645254,  0.20667531,\n",
       "       -0.16492925,  0.21106273,  0.56186087,  0.21221912,  0.90280031,\n",
       "        0.74923197])"
      ]
     },
     "execution_count": 27,
     "metadata": {},
     "output_type": "execute_result"
    }
   ],
   "source": [
    "pred = model.predict(x_test)\n",
    "pred"
   ]
  },
  {
   "cell_type": "code",
   "execution_count": 28,
   "id": "basic-conversation",
   "metadata": {},
   "outputs": [],
   "source": [
    "from sklearn.metrics import mean_squared_error"
   ]
  },
  {
   "cell_type": "code",
   "execution_count": 29,
   "id": "surrounded-dispute",
   "metadata": {},
   "outputs": [
    {
     "data": {
      "text/plain": [
       "0.13152561517275077"
      ]
     },
     "execution_count": 29,
     "metadata": {},
     "output_type": "execute_result"
    }
   ],
   "source": [
    "mse = mean_squared_error(pred,y_test)\n",
    "mse"
   ]
  },
  {
   "cell_type": "code",
   "execution_count": 30,
   "id": "fundamental-familiar",
   "metadata": {},
   "outputs": [
    {
     "data": {
      "text/plain": [
       "0.9344355155179327"
      ]
     },
     "execution_count": 30,
     "metadata": {},
     "output_type": "execute_result"
    }
   ],
   "source": [
    "model.intercept_\n"
   ]
  },
  {
   "cell_type": "code",
   "execution_count": 31,
   "id": "weekly-monkey",
   "metadata": {},
   "outputs": [
    {
     "data": {
      "text/plain": [
       "array([ 0.00065863, -0.2228772 ,  0.10160594, -0.00209192, -0.00085383,\n",
       "       -0.00204135,  0.01655308,  0.00294504, -0.18437908, -0.04911409,\n",
       "        0.06742993, -0.10998907, -0.10619874])"
      ]
     },
     "execution_count": 31,
     "metadata": {},
     "output_type": "execute_result"
    }
   ],
   "source": [
    "model.coef_"
   ]
  },
  {
   "cell_type": "code",
   "execution_count": null,
   "id": "preliminary-algebra",
   "metadata": {},
   "outputs": [],
   "source": []
  },
  {
   "cell_type": "code",
   "execution_count": null,
   "id": "covered-opposition",
   "metadata": {},
   "outputs": [],
   "source": []
  }
 ],
 "metadata": {
  "kernelspec": {
   "display_name": "Python 3",
   "language": "python",
   "name": "python3"
  },
  "language_info": {
   "codemirror_mode": {
    "name": "ipython",
    "version": 3
   },
   "file_extension": ".py",
   "mimetype": "text/x-python",
   "name": "python",
   "nbconvert_exporter": "python",
   "pygments_lexer": "ipython3",
   "version": "3.9.0"
  }
 },
 "nbformat": 4,
 "nbformat_minor": 5
}
